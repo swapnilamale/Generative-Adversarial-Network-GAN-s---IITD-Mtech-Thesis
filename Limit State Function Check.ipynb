{
 "cells": [
  {
   "cell_type": "code",
   "execution_count": 31,
   "metadata": {},
   "outputs": [],
   "source": [
    "import math\n",
    "import numpy as np\n",
    "import pandas as pd\n",
    "from numpy import random\n",
    "import scipy\n",
    "from scipy.stats import norm\n",
    "import matplotlib.pyplot as plt\n",
    "%matplotlib inline\n",
    "import scipy.io"
   ]
  },
  {
   "cell_type": "code",
   "execution_count": 44,
   "metadata": {},
   "outputs": [],
   "source": [
    "def Fun():\n",
    "    corrmat=np.array([[1,0,0,0,0,0,0,0],[0,1,0,0,0,0,0,0],[0,0,1,0,0,0,0,0],[0,0,0,1,0,0,0,0],[0,0,0,0,1,0,0,0],[0,0,0,0,0,1,0.500000000000000,0],[0,0,0,0,0,0.500000000000000,1,0],[0,0,0,0,0,0,0,1]])\n",
    "    D=914\n",
    "    d01=2.2660\n",
    "    dist_param= np.transpose(np.array([ [13.1400000000000,6.42255362976608,9.86498770189838,2.62800000000000,50,0.451625357017455,1.49786613677700,-0.00497516542658391],[0.197100000000000,0.0299932532886313,0.233909040370103,0.525600000000000,10,2.10134901124680,0.472380727077439,0.0997513451195927]])) \n",
    "    gb0=0\n",
    "    gb1=0\n",
    "    gd1=0.1857\n",
    "    gl0=0\n",
    "    gl1=7.9176\n",
    "    gll1=0\n",
    "    jtau=9\n",
    "    l01=59.224\n",
    "    ndefect=1\n",
    "    P=10.0830\n",
    "    sigmau=632.1272\n",
    "    wt=13.0987\n",
    "    xi=0.9752\n",
    "    \n",
    "    \n",
    "    mu= np.array([[13.1400000000000,615.850000000000,10,2.62800000000000,50,0.400000000000000,5,1]])\n",
    "#print(\"\\nmu\",mu,mu.shape)\n",
    "    sd= np.array([[0.197100000000000,18.4755000000000,0.300000000000000,0.525600000000000,10,0.200000000000000,2.50000000000000,0.100000000000000]]) \n",
    "#print(\"\\nsd\",sd,sd.shape)\n",
    "    typ=np.array([[1,2,4,1,1,5,2,2]]) \n",
    "#print(\"\\ntyp\",typ,typ.shape)\n",
    "    dist_param= np.transpose(np.array([ [13.1400000000000,6.42255362976608,9.86498770189838,2.62800000000000,50,0.451625357017455,1.49786613677700,-0.00497516542658391],[0.197100000000000,0.0299932532886313,0.233909040370103,0.525600000000000,10,2.10134901124680,0.472380727077439,0.0997513451195927]])) \n",
    "#print(\"\\ndist_param\",dist_param,dist_param.shape)\n",
    "    corrmat=np.array([[1,0,0,0,0,0,0,0],[0,1,0,0,0,0,0,0],[0,0,1,0,0,0,0,0],[0,0,0,1,0,0,0,0],[0,0,0,0,1,0,0,0],[0,0,0,0,0,1,0.500000000000000,0],[0,0,0,0,0,0.500000000000000,1,0],[0,0,0,0,0,0,0,1]])\n",
    "#print(\"\\ncorrmat\",corrmat,corrmat.shape)\n",
    "    typ=np.array([[1,2,4,1,1,5,2,2]])\n",
    "    \n",
    "    \n",
    "    \n",
    "    xrand=np.array([[13.0987040335554,632.127209146544,10.0830364965675,2.26604039313553,59.2243590131803,0.185717861301353,7.91758256293776,0.975185551791332]])\n",
    "    zrand=np.array([[-0.209517840916243,0.884766456189767,0.452551190085423,-0.688659830411855,0.922435901318027,-1.06609751373226,2.01181717026907,-0.202025858503811]])\n",
    "    \n",
    "    \n",
    "    for idefect in range(ndefect):\n",
    "        d1= d01+gd1*jtau\n",
    "        l1= l01+gl1*jtau       \n",
    "        gll1= 0.8*wt - d1\n",
    "        gb1=xi*(2*wt*sigmau/D)*(1-(d1/wt)*(1-math.exp((-0.157*l1/(math.sqrt(D*(wt-d1)/2))))))-P\n",
    "    \n",
    "              \n",
    "        if jtau>1:\n",
    "            d0= d01+gd1*(jtau - 1)\n",
    "            l0= l01+gl1*(jtau - 1)\n",
    "            gl0=0.8*wt - d0\n",
    "\n",
    "            gb0=xi*(2*wt*sigmau/D)*(1-(d0/wt)*(1-math.exp((-0.157*l0/(math.sqrt(D*(wt-d0)/2))))))-P\n",
    "    \n",
    "    if jtau==1:\n",
    "        gl = gll1                                       \n",
    "        gb = gb1                                            \n",
    "    else:\n",
    "        gl= gll1*gl0                                        \n",
    "        gb= gb1*gb0                                          \n",
    "        \n",
    "    return [gl,gb]    \n"
   ]
  },
  {
   "cell_type": "code",
   "execution_count": 45,
   "metadata": {},
   "outputs": [
    {
     "name": "stdout",
     "output_type": "stream",
     "text": [
      "44.00810181760001 38.68220056325508\n"
     ]
    }
   ],
   "source": [
    "[a,b]=Fun()\n",
    "print(a,b)\n",
    "    "
   ]
  },
  {
   "cell_type": "code",
   "execution_count": null,
   "metadata": {},
   "outputs": [],
   "source": []
  },
  {
   "cell_type": "code",
   "execution_count": null,
   "metadata": {},
   "outputs": [],
   "source": []
  }
 ],
 "metadata": {
  "kernelspec": {
   "display_name": "Python 3",
   "language": "python",
   "name": "python3"
  },
  "language_info": {
   "codemirror_mode": {
    "name": "ipython",
    "version": 3
   },
   "file_extension": ".py",
   "mimetype": "text/x-python",
   "name": "python",
   "nbconvert_exporter": "python",
   "pygments_lexer": "ipython3",
   "version": "3.7.4"
  }
 },
 "nbformat": 4,
 "nbformat_minor": 2
}
