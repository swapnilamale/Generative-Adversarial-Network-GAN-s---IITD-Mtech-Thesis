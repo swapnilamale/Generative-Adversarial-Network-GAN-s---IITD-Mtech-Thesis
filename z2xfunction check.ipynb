{
 "cells": [
  {
   "cell_type": "code",
   "execution_count": 5,
   "metadata": {},
   "outputs": [],
   "source": [
    "import math\n",
    "import numpy as np\n",
    "import pandas as pd\n",
    "from numpy import random\n",
    "import scipy\n",
    "from scipy.stats import norm\n",
    "import matplotlib.pyplot as plt\n",
    "%matplotlib inline\n",
    "import scipy.io"
   ]
  },
  {
   "cell_type": "code",
   "execution_count": 9,
   "metadata": {},
   "outputs": [],
   "source": [
    "corrmat=np.array([[1,0,0,0,0,0,0,0],[0,1,0,0,0,0,0,0],[0,0,1,0,0,0,0,0],[0,0,0,1,0,0,0,0],[0,0,0,0,1,0,0,0],[0,0,0,0,0,1,0.500000000000000,0],[0,0,0,0,0,0.500000000000000,1,0],[0,0,0,0,0,0,0,1]])\n",
    "dist_param= np.transpose(np.array([ [13.1400000000000,6.42255362976608,9.86498770189838,2.62800000000000,50,0.451625357017455,1.49786613677700,-0.00497516542658391],[0.197100000000000,0.0299932532886313,0.233909040370103,0.525600000000000,10,2.10134901124680,0.472380727077439,0.0997513451195927]])) \n",
    "L = scipy.io.loadmat('C:\\\\Users\\\\Swapnil\\\\OneDrive\\\\Desktop\\\\parameters\\\\z2X check\\\\L')['L']\n",
    "nvar=8\n",
    "typ=np.array([[1,2,4,1,1,5,2,2]]) \n",
    "u = scipy.io.loadmat('C:\\\\Users\\\\Swapnil\\\\OneDrive\\\\Desktop\\\\parameters\\\\z2X check\\\\u')['u']\n",
    "x = scipy.io.loadmat('C:\\\\Users\\\\Swapnil\\\\OneDrive\\\\Desktop\\\\parameters\\\\z2X check\\\\x')['x']\n",
    "z = scipy.io.loadmat('C:\\\\Users\\\\Swapnil\\\\OneDrive\\\\Desktop\\\\parameters\\\\z2X check\\\\z')['z']\n",
    "zcorr = scipy.io.loadmat('C:\\\\Users\\\\Swapnil\\\\OneDrive\\\\Desktop\\\\parameters\\\\z2X check\\\\zcorr')['zcorr']"
   ]
  },
  {
   "cell_type": "code",
   "execution_count": 61,
   "metadata": {},
   "outputs": [],
   "source": [
    "def z2x():\n",
    "    \n",
    "    corrmat=np.array([[1,0,0,0,0,0,0,0],[0,1,0,0,0,0,0,0],[0,0,1,0,0,0,0,0],[0,0,0,1,0,0,0,0],[0,0,0,0,1,0,0,0],[0,0,0,0,0,1,0.500000000000000,0],[0,0,0,0,0,0.500000000000000,1,0],[0,0,0,0,0,0,0,1]])\n",
    "    dist_param= np.transpose(np.array([ [13.1400000000000,6.42255362976608,9.86498770189838,2.62800000000000,50,0.451625357017455,1.49786613677700,-0.00497516542658391],[0.197100000000000,0.0299932532886313,0.233909040370103,0.525600000000000,10,2.10134901124680,0.472380727077439,0.0997513451195927]])) \n",
    "    #print(dist_param,dist_param.shape)\n",
    "    L = scipy.io.loadmat('C:\\\\Users\\\\Swapnil\\\\OneDrive\\\\Desktop\\\\parameters\\\\z2X check\\\\L')['L']\n",
    "    nvar=8\n",
    "    typ=np.array([[1,2,4,1,1,5,2,2]]) \n",
    "    u = scipy.io.loadmat('C:\\\\Users\\\\Swapnil\\\\OneDrive\\\\Desktop\\\\parameters\\\\z2X check\\\\u')['u']\n",
    "    #x = scipy.io.loadmat('C:\\\\Users\\\\Swapnil\\\\OneDrive\\\\Desktop\\\\parameters\\\\z2X check\\\\x')['x']\n",
    "    x = np.array([[0.0]*8])\n",
    "    z = scipy.io.loadmat('C:\\\\Users\\\\Swapnil\\\\OneDrive\\\\Desktop\\\\parameters\\\\z2X check\\\\z')['z']\n",
    "    zcorr = scipy.io.loadmat('C:\\\\Users\\\\Swapnil\\\\OneDrive\\\\Desktop\\\\parameters\\\\z2X check\\\\zcorr')['zcorr']\n",
    "    \n",
    "    \n",
    "    for ivar in range(nvar):\n",
    "        if   typ[0][ivar]==1:\n",
    "            x[:,ivar]=dist_param[ivar,0] + dist_param[ivar,1]*zcorr[:,ivar]\n",
    "        elif typ[0][ivar]==2:\n",
    "            x[:,ivar]=math.exp(dist_param[ivar,0] + dist_param[ivar,1]*zcorr[:,ivar])\n",
    "        elif typ[0][ivar]==3:x[:,ivar]=dist_param[ivar,1] + (dist_param[ivar,1] - dist_param[ivar,0])*u[:,ivar]\n",
    "        elif typ[0][ivar]==4:x[:,ivar]=dist_param[ivar,0] - dist_param[ivar,1]*math.log(-math.log(u[:,ivar]))\n",
    "        elif typ[0][ivar]==5:\n",
    "            theta=1/(dist_param[ivar,1])\n",
    "            x[:,ivar]= dist_param[ivar,0]*((-math.log(-(u[:,ivar]-1)))**theta)\n",
    "        \n",
    "    return x"
   ]
  },
  {
   "cell_type": "code",
   "execution_count": 62,
   "metadata": {},
   "outputs": [
    {
     "name": "stdout",
     "output_type": "stream",
     "text": [
      "[[1.30987040e+01 6.32127209e+02 1.00830365e+01 2.26604039e+00\n",
      "  5.92243590e+01 1.85717861e-01 7.91758256e+00 9.75185552e-01]]\n"
     ]
    }
   ],
   "source": [
    "x=z2x()\n",
    "print(x)"
   ]
  },
  {
   "cell_type": "markdown",
   "metadata": {},
   "source": [
    "13.0987040335554,632.127209146544,10.0830364965675,2.26604039313553,59.2243590131803,0.185717861301353,7.91758256293776,0.975185551791332"
   ]
  },
  {
   "cell_type": "code",
   "execution_count": 30,
   "metadata": {},
   "outputs": [
    {
     "data": {
      "text/plain": [
       "488309.1703358154"
      ]
     },
     "execution_count": 30,
     "metadata": {},
     "output_type": "execute_result"
    }
   ],
   "source": [
    "math.exp(13.09870403)"
   ]
  },
  {
   "cell_type": "code",
   "execution_count": null,
   "metadata": {},
   "outputs": [],
   "source": []
  }
 ],
 "metadata": {
  "kernelspec": {
   "display_name": "Python 3",
   "language": "python",
   "name": "python3"
  },
  "language_info": {
   "codemirror_mode": {
    "name": "ipython",
    "version": 3
   },
   "file_extension": ".py",
   "mimetype": "text/x-python",
   "name": "python",
   "nbconvert_exporter": "python",
   "pygments_lexer": "ipython3",
   "version": "3.7.4"
  }
 },
 "nbformat": 4,
 "nbformat_minor": 2
}
