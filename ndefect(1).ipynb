{
 "cells": [
  {
   "cell_type": "code",
   "execution_count": 31,
   "metadata": {},
   "outputs": [],
   "source": [
    "import math\n",
    "import numpy as np\n",
    "import pandas as pd\n",
    "from numpy import random\n",
    "import scipy\n",
    "from scipy.stats import norm\n",
    "import matplotlib.pyplot as plt\n",
    "%matplotlib inline\n",
    "import scipy.io"
   ]
  },
  {
   "cell_type": "code",
   "execution_count": 32,
   "metadata": {},
   "outputs": [],
   "source": [
    "def z2x(z,typ,dist_param,corrmat):\n",
    "    #z=np.array([[0.117786329536724,0.906056749773236,2.28732658561840,2.11617887466017,1.92616854758541,-1.17895895833063,1.86522403656920,-0.846142058945248]])\n",
    "    nvar = len(typ[0])\n",
    "    z=np.array([z])\n",
    "    L = np.linalg.cholesky(corrmat)\n",
    "    zcorr = np.matmul(z,L)\n",
    "    u = norm.cdf(zcorr)\n",
    "    x = np.array([[0.0]*nvar])                     \n",
    "    for ivar in range(nvar):\n",
    "        if   typ[0][ivar]==1:\n",
    "            x[:,ivar]=dist_param[ivar,0] + dist_param[ivar,1]*zcorr[:,ivar]\n",
    "        elif typ[0][ivar]==2:\n",
    "            x[:,ivar]=math.exp(dist_param[ivar,0] + dist_param[ivar,1]*zcorr[:,ivar])\n",
    "        elif typ[0][ivar]==3:x[:,ivar]=dist_param[ivar,1] + (dist_param[ivar,1] - dist_param[ivar,0])*u[:,ivar]\n",
    "        elif typ[0][ivar]==4:x[:,ivar]=dist_param[ivar,0] - dist_param[ivar,1]*math.log(-math.log(u[:,ivar]))\n",
    "        elif typ[0][ivar]==5:\n",
    "            theta=1/(dist_param[ivar,1])\n",
    "            x[:,ivar]= dist_param[ivar,0]*((-math.log(-(u[:,ivar]-1)))**theta)\n",
    "        \n",
    "    return x"
   ]
  },
  {
   "cell_type": "code",
   "execution_count": 33,
   "metadata": {},
   "outputs": [],
   "source": [
    "def Fun(D,zrand,jtau,ndefect,mu,sd,typ,dist_param,corrmat):\n",
    "    xrand = z2x(zrand,typ,dist_param,corrmat)\n",
    "    wt= xrand[0][0]\n",
    "    sigmau= xrand[0][1]\n",
    "    P= xrand[0][2]\n",
    "    d01=xrand[:,3:4+ndefect-1][0][0]\n",
    "    l01=xrand[:,3+ndefect:4+ndefect+ndefect][0][0]\n",
    "    gd1= xrand[:,3+ndefect+ndefect:3+ndefect+ndefect+ndefect][0][0]\n",
    "    gl1= xrand[:,3+ndefect+ndefect+ndefect: 4+ndefect+ndefect+ndefect+ndefect-1][0][0]\n",
    "    xi= xrand[:,-1][0]\n",
    "             \n",
    "              \n",
    "    gll1= np.zeros([1,ndefect])[0][0]\n",
    "    gb1= gll1\n",
    "    gl0= gll1\n",
    "    gb0= gll1\n",
    "              \n",
    "    for idefect in range(ndefect):\n",
    "        d1= d01+gd1*jtau\n",
    "        l1= l01+gl1*jtau       \n",
    "        gll1= 0.8*wt - d1\n",
    "        gb1=xi*(2*wt*sigmau/D)*(1-(d1/wt)*(1-math.exp((-0.157*l1/(math.sqrt(abs(D*(wt-d1))/2))))))-P\n",
    "    \n",
    "              \n",
    "        if jtau>1:\n",
    "            d0= d01+gd1*(jtau - 1)\n",
    "            l0= l01+gl1*(jtau - 1)\n",
    "            gl0=0.8*wt - d0\n",
    "\n",
    "            gb0=xi*(2*wt*sigmau/D)*(1-(d0/wt)*(1-math.exp((-0.157*l0/(math.sqrt(abs(D*(wt-d0))/2))))))-P\n",
    "    \n",
    "    if jtau==1:\n",
    "        gl = gll1                                       \n",
    "        gb = gb1                                            \n",
    "    else:\n",
    "        gl= gll1*gl0                                        \n",
    "        gb= gb1*gb0                                          \n",
    "        \n",
    "    return [gl,gb]    \n"
   ]
  },
  {
   "cell_type": "code",
   "execution_count": 34,
   "metadata": {},
   "outputs": [
    {
     "name": "stdout",
     "output_type": "stream",
     "text": [
      "\n",
      "pf1: [0.0, 0.0, 3.9062500000000017e-14, 1.6930989583333342e-10, 7.501693098958336e-07, 0.00016741683597656254, 0.0011424168359765628, 0.007975750169309896, 0.022975750169309896, 0.04314241683597656]\n"
     ]
    }
   ],
   "source": [
    "pf1=[]\n",
    "\n",
    "\n",
    "#_________________________________________________________________________________________________________________________#\n",
    "\n",
    "\n",
    "\n",
    "\n",
    "\n",
    "for jtau in range(1,11):\n",
    "    #Algorithm Parameters Requried \n",
    "    N=300;#print(\"\\nN:\",N)\n",
    "    p0=0.05;#print(\"\\np0:\",p0)\n",
    "    nt=round(N*p0);#print(\"\\nnt:\",nt) #15 \n",
    "    ns=math.ceil(1/p0-1);#print(\"\\nns:\",ns) #19 \n",
    "    ndefect=1;#print(\"\\nndefect:\",ndefect)\n",
    "    zrand = scipy.io.loadmat('C:\\\\Users\\\\Swapnil\\\\OneDrive\\\\Desktop\\\\zrand')['zrand'];#print(\"\\nzrand\",zrand,zrand.shape)\n",
    "    #zrand=np.random.randn(300,(4+4*ndefect))\n",
    "    z=zrand;#print(\"\\nz:\",z,z.shape)\n",
    "    xrand = scipy.io.loadmat('C:\\\\Users\\\\Swapnil\\\\OneDrive\\\\Desktop\\\\xrand')['xrand'];#print(\"\\nxrand\",xrand,xrand.shape)\n",
    "    #xrand=np.random.randn(300,(4+4*ndefect));#print(\"xrand\",xrand)\n",
    "    n=len(xrand[0]);#print(\"\\nn:\",n) \n",
    "    \n",
    "\n",
    "    \n",
    "    #Paras Variable \n",
    "    NumSam=300;#print(\"\\nNumSam\",NumSam) \n",
    "    CondPro=0.05;#print(\"\\nCondPro\",CondPro)  \n",
    "    MaxTry=10;#print(\"\\nMaxTry\",MaxTry) \n",
    "    \n",
    "#_________________________________________________________________________________________________________________________#\n",
    "\n",
    "#     #Param Variable (ex-1) \n",
    "#     D=914;#print(\"\\nD:\",D)   \n",
    "#     mu= np.array([[13.1400000000000,615.850000000000,10,2.62800000000000,50,0.400000000000000,5,1]])\n",
    "#     #print(\"\\nmu\",mu,mu.shape)\n",
    "#     sd= np.array([[0.197100000000000,18.4755000000000,0.300000000000000,0.525600000000000,10,0.200000000000000,2.50000000000000,0.100000000000000]]) \n",
    "#     #print(\"\\nsd\",sd,sd.shape)\n",
    "#     typ=np.array([[1,2,4,1,1,5,2,2]]) \n",
    "#     #print(\"\\ntyp\",typ,typ.shape)\n",
    "#     dist_param= np.transpose(np.array([ [13.1400000000000,6.42255362976608,9.86498770189838,2.62800000000000,50,0.451625357017455,1.49786613677700,-0.00497516542658391],[0.197100000000000,0.0299932532886313,0.233909040370103,0.525600000000000,10,2.10134901124680,0.472380727077439,0.0997513451195927]])) \n",
    "#     #print(\"\\ndist_param\",dist_param,dist_param.shape)\n",
    "#     corrmat=np.array([[1,0,0,0,0,0,0,0],[0,1,0,0,0,0,0,0],[0,0,1,0,0,0,0,0],[0,0,0,1,0,0,0,0],[0,0,0,0,1,0,0,0],[0,0,0,0,0,1,0.500000000000000,0],[0,0,0,0,0,0.500000000000000,1,0],[0,0,0,0,0,0,0,1]])\n",
    "#     #print(\"\\ncorrmat\",corrmat,corrmat.shape)\n",
    "    \n",
    "    \n",
    "    \n",
    "#     #Param Variable (ex-2)\n",
    "#     D=610\n",
    "#     mu= np.array([[8.62000000000000,563.530000000000,7,1.72400000000000,50,0.300000000000000,5,1]])\n",
    "#     #print(\"\\nmu\",mu,mu.shape)\n",
    "#     sd= np.array([[0.129300000000000,16.9059000000000,0.210000000000000,0.344800000000000,10,0.150000000000000,2.50000000000000,0.100000000000000]]) \n",
    "#     #print(\"\\nsd\",sd,sd.shape)\n",
    "#     typ=np.array([[1,2,4,1,1,5,2,2]]) \n",
    "#     #print(\"\\ntyp\",typ,typ.shape)\n",
    "#     dist_param= np.transpose(np.array([ [8.62000000000000,6.33377077312806,6.90549139132886,1.72400000000000,50,0.338719019741086,1.49786613677700,-0.00497516542658391],[0.129300000000000,0.0299932532886313,0.163736328259072,0.344800000000000,10,2.10134882811100,0.472380727077439,0.0997513451195927]])) \n",
    "#     #print(\"\\ndist_param\",dist_param,dist_param.shape)\n",
    "#     corrmat=np.array([[1,0,0,0,0,0,0,0],[0,1,0,0,0,0,0,0],[0,0,1,0,0,0,0,0],[0,0,0,1,0,0,0,0],[0,0,0,0,1,0,0,0],[0,0,0,0,0,1,0.500000000000000,0],[0,0,0,0,0,0.500000000000000,1,0],[0,0,0,0,0,0,0,1]])\n",
    "#     #print(\"\\ncorrmat\",corrmat,corrmat.shape)\n",
    "    \n",
    "    \n",
    "    \n",
    "#     #Param Variable (ex-3)\n",
    "#     D=508\n",
    "#     mu= np.array([[7.38000000000000,563.530000000000,6,1.47600000000000,50,0.200000000000000,5,1]])\n",
    "#     #print(\"\\nmu\",mu,mu.shape)\n",
    "#     sd= np.array([[0.110700000000000,16.9059000000000,0.180000000000000,0.295200000000000,10,0.100000000000000,2.50000000000000,0.100000000000000]]) \n",
    "#     #print(\"\\nsd\",sd,sd.shape)\n",
    "#     typ=np.array([[1,2,4,1,1,5,2,2]]) \n",
    "#     #print(\"\\ntyp\",typ,typ.shape)\n",
    "#     dist_param= np.transpose(np.array([ [7.38000000000000,6.33377077312806,5.91899262113903,1.47600000000000,50,0.225812690130582,1.49786613677700,-0.00497516542658391],[0.110700000000000,0.0299932532886313,0.140345424222062,0.295200000000000,10,2.10134739732313,0.472380727077439,0.0997513451195927]])) \n",
    "#     #print(\"\\ndist_param\",dist_param,dist_param.shape)\n",
    "#     corrmat=np.array([[1,0,0,0,0,0,0,0],[0,1,0,0,0,0,0,0],[0,0,1,0,0,0,0,0],[0,0,0,1,0,0,0,0],[0,0,0,0,1,0,0,0],[0,0,0,0,0,1,0.500000000000000,0],[0,0,0,0,0,0.500000000000000,1,0],[0,0,0,0,0,0,0,1]])\n",
    "#     #print(\"\\ncorrmat\",corrmat,corrmat.shape)\n",
    "    \n",
    "    \n",
    "    #Param Variable (ex-4)\n",
    "    D=406\n",
    "    mu= np.array([[7.07000000000000,495.950000000000,5,1.41400000000000,50,0.200000000000000,5,1]])\n",
    "    #print(\"\\nmu\",mu,mu.shape)\n",
    "    sd= np.array([[0.106050000000000,14.8785000000000,0.150000000000000,0.282800000000000,10,0.100000000000000,2.50000000000000,0.100000000000000]]) \n",
    "    #print(\"\\nsd\",sd,sd.shape)\n",
    "    typ=np.array([[1,2,4,1,1,5,2,2]]) \n",
    "    #print(\"\\ntyp\",typ,typ.shape)\n",
    "    dist_param= np.transpose(np.array([ [7.07000000000000,6.20602531757058,4.93249385094919,1.41400000000000,50,0.225812690130582,1.49786613677700,-0.00497516542658391],[0.106050000000000,0.0299932532886313,0.116954520185051,0.282800000000000,10,2.10134739732313,0.472380727077439,0.0997513451195927]])) \n",
    "    #print(\"\\ndist_param\",dist_param,dist_param.shape)\n",
    "    corrmat=np.array([[1,0,0,0,0,0,0,0],[0,1,0,0,0,0,0,0],[0,0,1,0,0,0,0,0],[0,0,0,1,0,0,0,0],[0,0,0,0,1,0,0,0],[0,0,0,0,0,1,0.500000000000000,0],[0,0,0,0,0,0.500000000000000,1,0],[0,0,0,0,0,0,0,1]])\n",
    "    #print(\"\\ncorrmat\",corrmat,corrmat.shape)\n",
    "#__________________________________________________________________________________________________________________________#\n",
    "    \n",
    "    \n",
    "    g=[]\n",
    "    h=[]\n",
    "    for i in range(N):\n",
    "        [g1,h1] = Fun(D,z[i,:],jtau,ndefect,mu,sd,typ,dist_param,corrmat)\n",
    "        g.append(g1)\n",
    "        h.append(h1)\n",
    "    g=[g]\n",
    "    h=[h]\n",
    "    g=np.array(g);#print(\"\\ng\",g,g.shape)\n",
    "    #print(\"\\n\")\n",
    "    h=np.array(h);#print(\"\\nh\",h,h.shape)\n",
    "    \n",
    "    \n",
    "    \n",
    "#__________________________________________________________________________________________________________________________#\n",
    "    \n",
    "    \n",
    "    \n",
    "    [gSort,index1]=[np.sort(g), np.argsort(g)];#print(\"gSort:\",gSort,gSort.shape);print(\"\\nindex1:\",index1,index1.shape)\n",
    "    [hSort,index2]=[np.sort(h), np.argsort(h)];#print(\"hSort:\",hSort,hSort.shape);print(\"\\nindex2:\",index2,index2.shape)\n",
    "    gRe = gSort\n",
    "    hRe = hSort\n",
    "    \n",
    "    \n",
    "    Z1 = z[index1,:][0];#print(\"\\n Z1:\",Z1,Z1.shape)\n",
    "    Z2 = z[index2,:][0];#print(\"\\n Z2:\",Z2,Z2.shape)\n",
    "    zRe1 = Z1\n",
    "    zRe2 = Z2\n",
    "    \n",
    "    \n",
    "    pfss1 = nt/N\n",
    "    pfss2 = nt/N\n",
    "    \n",
    "    cdf =np.array([(N+1-np.array(range(N,0,-1)))/N]);#print(\"/n cdf\",cdf,cdf.shape)\n",
    "    \n",
    "    \n",
    "    sigma1 = np.array([np.std(Z1[:nt,:],axis=0,ddof=1)])#;print(\"\\nsigma1\",sigma1,sigma1.shape)\n",
    "    sigma2 = np.array([np.std(Z2[:nt,:],axis=0,ddof=1)])#;print(\"\\nsigma2\",sigma2,sigma2.shape)\n",
    "    \n",
    "    \n",
    "    \n",
    "    \n",
    "    \n",
    "    \n",
    "#__________________________________________________________________________________________________________________________#\n",
    "    \n",
    "    \n",
    "    \n",
    "    limit_state1=[] \n",
    "    stopFlag = 0                            \n",
    "    iterr = 1\n",
    "    while(stopFlag == 0):\n",
    "        w = Z1[0:nt,:];#print(\"\\nw\",w,w.shape)\n",
    "        g = np.array([gSort[0,0:nt]]);#print(\"\\ng\",g,g.shape)\n",
    "        iterr = iterr+1\n",
    "        lenh = nt+1\n",
    "        u=np.array([np.random.rand(n)]);#print(\"\\nu:\",u,u.shape)\n",
    "        #newrow=[0,0,0,0,0,0,0,0,0,0,0,0]\n",
    "        newrow=[0,0,0,0,0,0,0,0]\n",
    "        for i in range(nt):\n",
    "            seed=np.array([w[i,:]]);#print(\"\\nseed:\",seed,seed.shape)\n",
    "            seed_g=g[0,i];#print(\"\\nseed_g\",seed_g,seed_g.shape)\n",
    "            \n",
    "            \n",
    "            for j in range(ns):         # A Markov chain\n",
    "                \n",
    "                \n",
    "                for k in  range(n):     # Component by component\n",
    "                    #Generate an candidate\n",
    "                    u = seed[0,k]+(2*random.rand()-1)*sigma1[0,k]\n",
    "                    #Calculate the acceptance probability\n",
    "                    pdf2 = math.exp(-0.5*np.power(seed[0,k],2));#print(\"pdf2:\",pdf2)\n",
    "                    pdf1 = math.exp(-0.5*np.power(u,2));#print(\"pdf1:\",pdf1)\n",
    "                    alpha = pdf1/pdf2;#print(alpha)\n",
    "                    #Accept u(k) with a probability of alpha\n",
    "                    if  alpha > np.random.rand():\n",
    "                        newrow[k]=u\n",
    "                    else:\n",
    "                        newrow[k]= seed[0,k]\n",
    "                        \n",
    "                        \n",
    "                w = np.vstack([w, newrow])\n",
    "                #print(\"\\nw\",w.shape)\n",
    "                newrow=[0,0,0,0,0,0,0,0]\n",
    "                #newrow=[0,0,0,0,0,0,0,0,0,0,0,0]\n",
    "                [gTemp,theta] = Fun(D,w[lenh-1,:],jtau,ndefect,mu,sd,typ,dist_param,corrmat)    \n",
    "                #Accept or Reject\n",
    "                #print(\"\\ngTemp:\",gTemp)\n",
    "                #print(\"\\ngSort\",gSort,gSort.shape)\n",
    "                if gTemp <= gSort[0,nt]:\n",
    "                    g=np.array([np.append(g,gTemp)])#print(\"g\",g,g.shape)#g[lenh-1] = gTemp\n",
    "                    seed = np.array([w[lenh-1,:]]);#print(\"\\nseed:\",seed,seed.shape)\n",
    "                    seed_g = g[0,lenh-1]#print(\"\\nseed_g:\",seed_g.shape)\n",
    "                else:\n",
    "                    g=np.array([np.append(g,gTemp)])\n",
    "                    w[lenh-1,:] = seed\n",
    "                        \n",
    "                lenh=lenh+1\n",
    "                #terminate the simulation of a Markov chain\n",
    "                if lenh>N:break\n",
    "            if lenh>N:break\n",
    "        #print(\"w:\",w,w.shape)\n",
    "        #print(\"\\ng:\",g,g.shape)\n",
    "        \n",
    "        #Sort samples and LSF values\n",
    "        [gSort,index]=[np.sort(g), np.argsort(g)]#;print(\"\\ngSort:\",gSort,gSort.shape);print(\"\\nindex:\",index,index.shape)\n",
    "        Z1 = w[index-1,:][0]#;print(\"\\nZ1:\",Z1,Z1.shape)\n",
    "        #Record the calculated results\n",
    "        gRe = np.array([np.append(gSort,gRe[0,nt:])])#;print(\"\\ngRe:\",gRe,gRe.shape)\n",
    "        cdf = np.array([np.append(np.array([(N+1-np.array(range(N,0,-1)))/N*(nt/N)**(iterr-1)]),np.array([cdf[0,nt:]]))])#;print(\"\\ncdf:\",cdf,cdf.shape)\n",
    "        zRe1=np.concatenate((Z1, zRe1[nt:,:]), axis=0)#;print(\"zRe1:\",zRe1,zRe1.shape)\n",
    "        \n",
    "        if iterr >= MaxTry or  gSort[0,nt] <= 0:\n",
    "            pfss1 = pfss1*(len([val for val in g[0] if val < 0])/N)\n",
    "            stopFlag = 1\n",
    "            limit_state1=limit_state1+[pfss1]\n",
    "            break\n",
    "        else:\n",
    "            pfss1 = pfss1*(nt/N)\n",
    "            limit_state1=limit_state1+[pfss1]\n",
    "\n",
    "    \n",
    "    limit_state1=np.array(limit_state1);#print(\"limit_state1:\\n\",limit_state1,limit_state1.shape);\n",
    "    xaxis=np.array(range(1,len(limit_state1)+1))#;print(xaxis,xaxis.shape)\n",
    "    if jtau==1:\n",
    "        pf1.append(limit_state1[-1])\n",
    "    else:\n",
    "        pf1.append(pf1[-1]+limit_state1[-1])\n",
    "    \n",
    "#__________________________________________________________________________________________________________________________#   \n",
    "\n",
    "# for i in range(len(pf1)):\n",
    "#     if pf1[i]< 1e-5:pf1[i]=0\n",
    "#     else:k=1\n",
    "\n",
    "print(\"\\npf1:\",pf1)\n"
   ]
  },
  {
   "cell_type": "code",
   "execution_count": 35,
   "metadata": {},
   "outputs": [
    {
     "name": "stdout",
     "output_type": "stream",
     "text": [
      "pf2:\n",
      " [0.0, 0.0, 0.0, 5.533854166666669e-13, 1.666722005208334e-08, 4.958338867187501e-07, 0.0002754958338867188, 0.0008421625005533854, 0.004342162500553386, 0.016842162500553388]\n"
     ]
    }
   ],
   "source": [
    "pf2=[]\n",
    "\n",
    "\n",
    "\n",
    "#_______________________________________________________________________________________________________________________#\n",
    "\n",
    "\n",
    "\n",
    "\n",
    "for jtau in range(1,11):\n",
    "    #Algorithm Parameters Requried \n",
    "    N=300\n",
    "    p0=0.05\n",
    "    nt=round(N*p0) #15 \n",
    "    ns=math.ceil(1/p0-1) #19  \n",
    "    ndefect=1\n",
    "    zrand = scipy.io.loadmat('C:\\\\Users\\\\Swapnil\\\\OneDrive\\\\Desktop\\\\zrand')['zrand']\n",
    "    #zrand=np.random.randn(300,(4+4*ndefect));#print(\"zrand\",zrand)\n",
    "    z=zrand\n",
    "    xrand = scipy.io.loadmat('C:\\\\Users\\\\Swapnil\\\\OneDrive\\\\Desktop\\\\xrand')['xrand']\n",
    "    #xrand=np.random.randn(300,(4+4*ndefect));#print(\"xrand\",xrand)\n",
    "    n=len(xrand[0]) \n",
    "    \n",
    "\n",
    "    \n",
    "    #Paras Variable \n",
    "    NumSam=300 \n",
    "    CondPro=0.05 \n",
    "    MaxTry=10\n",
    "    \n",
    "    \n",
    "#     #Param Variable (eg -1)\n",
    "#     D=914\n",
    "#     mu= np.array([[13.1400000000000,615.850000000000,10,2.62800000000000,50,0.400000000000000,5,1]]) \n",
    "#     sd= np.array([[0.197100000000000,18.4755000000000,0.300000000000000,0.525600000000000,10,0.200000000000000,2.50000000000000,0.100000000000000]]) \n",
    "#     typ=np.array([[1,2,4,1,1,5,2,2]]) \n",
    "#     dist_param= np.transpose(np.array([ [13.1400000000000,6.42255362976608,9.86498770189838,2.62800000000000,50,0.451625357017455,1.49786613677700,-0.00497516542658391],[0.197100000000000,0.0299932532886313,0.233909040370103,0.525600000000000,10,2.10134901124680,0.472380727077439,0.0997513451195927]])) \n",
    "#     corrmat=np.array([[1,0,0,0,0,0,0,0],[0,1,0,0,0,0,0,0],[0,0,1,0,0,0,0,0],[0,0,0,1,0,0,0,0],[0,0,0,0,1,0,0,0],[0,0,0,0,0,1,0.500000000000000,0],[0,0,0,0,0,0.500000000000000,1,0],[0,0,0,0,0,0,0,1]])\n",
    "\n",
    "#     #Param Variable (ex-2)\n",
    "#     D=610\n",
    "#     mu= np.array([[8.62000000000000,563.530000000000,7,1.72400000000000,50,0.300000000000000,5,1]])\n",
    "#     #print(\"\\nmu\",mu,mu.shape)\n",
    "#     sd= np.array([[0.129300000000000,16.9059000000000,0.210000000000000,0.344800000000000,10,0.150000000000000,2.50000000000000,0.100000000000000]]) \n",
    "#     #print(\"\\nsd\",sd,sd.shape)\n",
    "#     typ=np.array([[1,2,4,1,1,5,2,2]]) \n",
    "#     #print(\"\\ntyp\",typ,typ.shape)\n",
    "#     dist_param= np.transpose(np.array([ [8.62000000000000,6.33377077312806,6.90549139132886,1.72400000000000,50,0.338719019741086,1.49786613677700,-0.00497516542658391],[0.129300000000000,0.0299932532886313,0.163736328259072,0.344800000000000,10,2.10134882811100,0.472380727077439,0.0997513451195927]])) \n",
    "#     #print(\"\\ndist_param\",dist_param,dist_param.shape)\n",
    "#     corrmat=np.array([[1,0,0,0,0,0,0,0],[0,1,0,0,0,0,0,0],[0,0,1,0,0,0,0,0],[0,0,0,1,0,0,0,0],[0,0,0,0,1,0,0,0],[0,0,0,0,0,1,0.500000000000000,0],[0,0,0,0,0,0.500000000000000,1,0],[0,0,0,0,0,0,0,1]])\n",
    "#     #print(\"\\ncorrmat\",corrmat,corrmat.shape)\n",
    "    \n",
    "    \n",
    "    \n",
    "#     #Param Variable (ex-3)\n",
    "#     D=508\n",
    "#     mu= np.array([[7.38000000000000,563.530000000000,6,1.47600000000000,50,0.200000000000000,5,1]])\n",
    "#     #print(\"\\nmu\",mu,mu.shape)\n",
    "#     sd= np.array([[0.110700000000000,16.9059000000000,0.180000000000000,0.295200000000000,10,0.100000000000000,2.50000000000000,0.100000000000000]]) \n",
    "#     #print(\"\\nsd\",sd,sd.shape)\n",
    "#     typ=np.array([[1,2,4,1,1,5,2,2]]) \n",
    "#     #print(\"\\ntyp\",typ,typ.shape)\n",
    "#     dist_param= np.transpose(np.array([ [7.38000000000000,6.33377077312806,5.91899262113903,1.47600000000000,50,0.225812690130582,1.49786613677700,-0.00497516542658391],[0.110700000000000,0.0299932532886313,0.140345424222062,0.295200000000000,10,2.10134739732313,0.472380727077439,0.0997513451195927]])) \n",
    "#     #print(\"\\ndist_param\",dist_param,dist_param.shape)\n",
    "#     corrmat=np.array([[1,0,0,0,0,0,0,0],[0,1,0,0,0,0,0,0],[0,0,1,0,0,0,0,0],[0,0,0,1,0,0,0,0],[0,0,0,0,1,0,0,0],[0,0,0,0,0,1,0.500000000000000,0],[0,0,0,0,0,0.500000000000000,1,0],[0,0,0,0,0,0,0,1]])\n",
    "#     #print(\"\\ncorrmat\",corrmat,corrmat.shape)\n",
    "    \n",
    "    \n",
    "    #Param Variable (ex-4)\n",
    "    D=406\n",
    "    mu= np.array([[7.07000000000000,495.950000000000,5,1.41400000000000,50,0.200000000000000,5,1]])\n",
    "    #print(\"\\nmu\",mu,mu.shape)\n",
    "    sd= np.array([[0.106050000000000,14.8785000000000,0.150000000000000,0.282800000000000,10,0.100000000000000,2.50000000000000,0.100000000000000]]) \n",
    "    #print(\"\\nsd\",sd,sd.shape)\n",
    "    typ=np.array([[1,2,4,1,1,5,2,2]]) \n",
    "    #print(\"\\ntyp\",typ,typ.shape)\n",
    "    dist_param= np.transpose(np.array([ [7.07000000000000,6.20602531757058,4.93249385094919,1.41400000000000,50,0.225812690130582,1.49786613677700,-0.00497516542658391],[0.106050000000000,0.0299932532886313,0.116954520185051,0.282800000000000,10,2.10134739732313,0.472380727077439,0.0997513451195927]])) \n",
    "    #print(\"\\ndist_param\",dist_param,dist_param.shape)\n",
    "    corrmat=np.array([[1,0,0,0,0,0,0,0],[0,1,0,0,0,0,0,0],[0,0,1,0,0,0,0,0],[0,0,0,1,0,0,0,0],[0,0,0,0,1,0,0,0],[0,0,0,0,0,1,0.500000000000000,0],[0,0,0,0,0,0.500000000000000,1,0],[0,0,0,0,0,0,0,1]])\n",
    "    #print(\"\\ncorrmat\",corrmat,corrmat.shape)\n",
    "    \n",
    "    \n",
    "#___________________________________________________________________________________________________________________________#    \n",
    "    \n",
    "    \n",
    "    g=[]\n",
    "    h=[]\n",
    "    for i in range(N):\n",
    "        [g1,h1] = Fun(D,z[i,:],jtau,ndefect,mu,sd,typ,dist_param,corrmat)\n",
    "        g.append(g1)\n",
    "        h.append(h1)\n",
    "    g=[g]\n",
    "    h=[h]\n",
    "    g=np.array(g);#print(g,g.shape)\n",
    "    #print(\"\\n\")\n",
    "    h=np.array(h);#print(h,h.shape)\n",
    "    \n",
    "    \n",
    "    \n",
    "    \n",
    "#___________________________________________________________________________________________________________________________#    \n",
    "    \n",
    "    \n",
    "    \n",
    "    [gSort,index1]=[np.sort(g), np.argsort(g)];#print(\"gSort:\",gSort,gSort.shape);print(\"\\nindex1:\",index1,index1.shape)\n",
    "    [hSort,index2]=[np.sort(h), np.argsort(h)];#print(\"hSort:\",hSort,hSort.shape);print(\"\\nindex2:\",index2,index2.shape)\n",
    "    gRe = gSort\n",
    "    hRe = hSort\n",
    "    \n",
    "    \n",
    "    Z1 = z[index1,:][0];#print(\"\\n Z1:\",Z1,Z1.shape)\n",
    "    Z2 = z[index2,:][0];#print(\"\\n Z2:\",Z2,Z2.shape)\n",
    "    zRe1 = Z1\n",
    "    zRe2 = Z2\n",
    "    \n",
    "    \n",
    "    pfss1 = nt/N\n",
    "    pfss2 = nt/N\n",
    "    \n",
    "    cdf =np.array([(N+1-np.array(range(N,0,-1)))/N]);#print(\"/n cdf\",cdf,cdf.shape)\n",
    "    \n",
    "    \n",
    "    sigma1 = np.array([np.std(Z1[:nt,:],axis=0,ddof=1)])#;print(\"\\nsigma1\",sigma1,sigma1.shape)\n",
    "    sigma2 = np.array([np.std(Z2[:nt,:],axis=0,ddof=1)])#;print(\"\\nsigma2\",sigma2,sigma2.shape)\n",
    "    \n",
    "    \n",
    "    \n",
    "    \n",
    "#_________________________________________________________________________________________________________________________#\n",
    "    \n",
    "    \n",
    "    limit_state2=[]\n",
    "    stopFlag = 0                            \n",
    "    iterr = 1                                       \n",
    "    while(stopFlag == 0):\n",
    "        w = Z2[0:nt,:];#print(\"\\nw\",w,w.shape)\n",
    "        h = np.array([hSort[0,0:nt]]);#print(\"\\ng\",g,g.shape)\n",
    "        iterr = iterr+1\n",
    "        lenh = nt+1\n",
    "        u=np.array([np.random.rand(n)]);#print(\"\\nu:\",u,u.shape)\n",
    "        newrow=[0,0,0,0,0,0,0,0]\n",
    "        for i in range(nt):\n",
    "            seed=np.array([w[i,:]]);#print(\"\\nseed:\",seed,seed.shape)\n",
    "            seed_h=h[0,i];#print(\"\\nseed_g\",seed_g,seed_g.shape)\n",
    "            \n",
    "            \n",
    "            for j in range(ns):         # A Markov chain\n",
    "                \n",
    "                \n",
    "                for k in  range(n):     # Component by component\n",
    "                    #Generate an candidate\n",
    "                    u = seed[0,k]+(2*random.rand()-1)*sigma1[0,k]\n",
    "                    #Calculate the acceptance probability\n",
    "                    pdf2 = math.exp(-0.5*np.power(seed[0,k],2));#print(\"pdf2:\",pdf2)\n",
    "                    pdf1 = math.exp(-0.5*np.power(u,2));#print(\"pdf1:\",pdf1)\n",
    "                    alpha = pdf1/pdf2;#print(alpha)\n",
    "                    #Accept u(k) with a probability of alpha\n",
    "                    if  alpha > np.random.rand():\n",
    "                        newrow[k]=u\n",
    "                    else:\n",
    "                        newrow[k]= seed[0,k]\n",
    "                        \n",
    "                        \n",
    "                w = np.vstack([w, newrow])\n",
    "                #print(\"\\nw\",w.shape)\n",
    "                newrow=[0,0,0,0,0,0,0,0]\n",
    "                [gTemp,theta] = Fun(D,w[lenh-1,:],jtau,ndefect,mu,sd,typ,dist_param,corrmat)    \n",
    "                #Accept or Reject\n",
    "                #print(\"\\ngTemp:\",gTemp)\n",
    "                #print(\"\\ngSort\",gSort,gSort.shape)\n",
    "                if theta <= hSort[0,nt]:\n",
    "                    h=np.array([np.append(h,theta)])#print(\"g\",g,g.shape)#g[lenh-1] = gTemp\n",
    "                    seed = np.array([w[lenh-1,:]]);#print(\"\\nseed:\",seed,seed.shape)\n",
    "                    seed_h = h[0,lenh-1]#print(\"\\nseed_g:\",seed_g.shape)\n",
    "                else:\n",
    "                    h=np.array([np.append(h,theta)])\n",
    "                    w[lenh-1,:] = seed\n",
    "                        \n",
    "                lenh=lenh+1\n",
    "                #terminate the simulation of a Markov chain\n",
    "                if lenh>N:break\n",
    "            if lenh>N:break\n",
    "        #print(\"w:\",w,w.shape)\n",
    "        #print(\"\\ng:\",g,g.shape)\n",
    "        \n",
    "        #Sort samples and LSF values\n",
    "        [hSort,index]=[np.sort(h), np.argsort(h)]#;print(\"\\ngSort:\",gSort,gSort.shape);print(\"\\nindex:\",index,index.shape)\n",
    "        Z2 = w[index-1,:][0]#;print(\"\\nZ1:\",Z1,Z1.shape)\n",
    "        #Record the calculated results\n",
    "        hRe = np.array([np.append(theta,hRe[0,nt:])])#;print(\"\\ngRe:\",gRe,gRe.shape)\n",
    "        cdf = np.array([np.append(np.array([(N+1-np.array(range(N,0,-1)))/N*(nt/N)**(iterr-1)]),np.array([cdf[0,nt:]]))])#;print(\"\\ncdf:\",cdf,cdf.shape)\n",
    "        zRe2=np.concatenate((Z2, zRe2[nt:,:]), axis=0)#;print(\"zRe1:\",zRe1,zRe1.shape)\n",
    "        \n",
    "        if iterr >= MaxTry or  hSort[0,nt] <= 0:\n",
    "            pfss2 = pfss2*(len([val for val in h[0] if val < 0])/N)\n",
    "            stopFlag = 1\n",
    "            limit_state2=limit_state2+[pfss2]\n",
    "            break\n",
    "        else:\n",
    "            pfss2 = pfss2*(nt/N)\n",
    "            limit_state2=limit_state2+[pfss2]\n",
    "    \n",
    "    limit_state2=np.array(limit_state2);#print(\"limit_state2:\\n\",limit_state2,limit_state2.shape)\n",
    "    xaxiss=np.array(range(1,len(limit_state2)+1))#;print(xaxiss,xaxiss.shape)\n",
    "    if jtau==1:\n",
    "        pf2.append(limit_state2[-1])\n",
    "    else:\n",
    "        pf2.append(pf2[-1]+limit_state2[-1])\n",
    "    \n",
    "    \n",
    "    \n",
    "    \n",
    "#__________________________________________________________________________________________________________________________#\n",
    "\n",
    "# for i in range(len(pf2)):\n",
    "#     if pf2[i]< 1e-5:pf2[i]=0\n",
    "#     else:k=1\n",
    "\n",
    "print(\"pf2:\\n\",pf2)"
   ]
  },
  {
   "cell_type": "markdown",
   "metadata": {},
   "source": [
    "# -----------------------------------------------------------------------------------------------------------------------------------------------------------------------------------------------------------------------------------------------------------------------------------------------------------------------------------------------------------------------------------------------------------------------------------------------------------------"
   ]
  },
  {
   "cell_type": "code",
   "execution_count": 26,
   "metadata": {
    "scrolled": true
   },
   "outputs": [
    {
     "name": "stdout",
     "output_type": "stream",
     "text": [
      "pf:\n",
      "             pf1           pf2\n",
      "0  0.000000e+00  0.000000e+00\n",
      "1  0.000000e+00  0.000000e+00\n",
      "2  0.000000e+00  0.000000e+00\n",
      "3  7.291667e-11  2.604167e-12\n",
      "4  5.417396e-07  3.023438e-09\n",
      "5  4.345841e-05  7.503023e-06\n",
      "6  1.018458e-03  1.958636e-05\n",
      "7  6.351792e-03  7.529197e-04\n",
      "8  1.685179e-02  5.086253e-03\n",
      "9  3.285179e-02  1.391959e-02\n"
     ]
    }
   ],
   "source": [
    "pfa=np.transpose(np.array([pf1,pf2]))\n",
    "pf=pd.DataFrame(pfa,columns=[\"pf1\",\"pf2\"])\n",
    "print(\"pf:\\n\",pf)"
   ]
  },
  {
   "cell_type": "markdown",
   "metadata": {},
   "source": [
    "# -----------------------------------------------------------------------------------------------------------------------------------------------------------------------------------------------------------------------------------------------------------------------------------------------------------------------------------------------------------------------------------------------------------------------------------------------------------------#"
   ]
  },
  {
   "cell_type": "markdown",
   "metadata": {},
   "source": [
    "# Final Comparison"
   ]
  },
  {
   "cell_type": "markdown",
   "metadata": {},
   "source": [
    "Example No 1"
   ]
  },
  {
   "cell_type": "code",
   "execution_count": 16,
   "metadata": {},
   "outputs": [],
   "source": [
    "# pf1m =[0,0,0,0,0,0.000180000000000000,0.00167530000000000,0.00738710000000000,0.0206788000000000,0.0435258000000000]\n",
    "# pf2m =[0,0,0,0,2.19000000000000e-05,0.000168500000000000,0.00103030000000000,0.00425290000000000,0.0124037000000000,0.0279013000000000]"
   ]
  },
  {
   "cell_type": "code",
   "execution_count": 17,
   "metadata": {},
   "outputs": [],
   "source": [
    "\n",
    "pf1m=[5.40000000000000e-06,0.000183000000000000,0.00166050000000000,0.00733490000000000,0.0206455000000000,0.0434828000000000]\n",
    "pf2m=[7.00000000000000e-07,9.00000000000000e-07,1.70000000000000e-06,4.60000000000000e-06,1.96000000000000e-05,0.000166300000000000,0.00102680000000000,0.00424510000000000,0.0122937000000000,0.0278139000000000]"
   ]
  },
  {
   "cell_type": "code",
   "execution_count": 9,
   "metadata": {
    "scrolled": false
   },
   "outputs": [
    {
     "data": {
      "text/plain": [
       "<matplotlib.legend.Legend at 0x1d244105588>"
      ]
     },
     "execution_count": 9,
     "metadata": {},
     "output_type": "execute_result"
    },
    {
     "data": {
      "image/png": "[encoded data removed]",
      "text/plain": [
       "<Figure size 432x288 with 1 Axes>"
      ]
     },
     "metadata": {
      "needs_background": "light"
     },
     "output_type": "display_data"
    }
   ],
   "source": [
    "axes1=plt.figure().add_axes([0,0,1,1])\n",
    "axes1.set_yscale('log')\n",
    "xaxis=[1,2,3,4,5,6,7,8,9,10]\n",
    "xaxiss=[5,6,7,8,9,10]\n",
    "axes1.plot(xaxiss,pf1m,'bo--',label=\"Pf1MCS\")\n",
    "axes1.plot(xaxis,pf2m,'g',label=\"Pf2MCS\")\n",
    "axes1.plot(xaxis,pf1,'ro--',label=\"Pf1SS\")\n",
    "axes1.plot(xaxis,pf2,'y',label=\"Pf2SS\")\n",
    "axes1.set_xlabel(\"Iterations\")\n",
    "axes1.set_ylabel(\"Probability Of Failure 1&2\")\n",
    "axes1.set_title('Limit State Function')\n",
    "axes1.legend()"
   ]
  },
  {
   "cell_type": "markdown",
   "metadata": {},
   "source": [
    "Example No 2"
   ]
  },
  {
   "cell_type": "code",
   "execution_count": 18,
   "metadata": {},
   "outputs": [],
   "source": [
    "\n",
    "pf1m=[0,0,0,5.00000000000000e-07,7.54000000000000e-05,0.00128450000000000,0.00740190000000000,0.0234870000000000,0.0519889000000000,0.0920584000000000]\n",
    "pf2m=[0,0,0,3.00000000000000e-07,1.92000000000000e-05,0.000358300000000000,0.00262250000000000,0.0102644000000000,0.0268894000000000,0.0544708000000000]"
   ]
  },
  {
   "cell_type": "code",
   "execution_count": 19,
   "metadata": {},
   "outputs": [
    {
     "name": "stdout",
     "output_type": "stream",
     "text": [
      "pf:\n",
      "             pf1           pf2\n",
      "0  0.000000e+00  0.000000e+00\n",
      "1  0.000000e+00  0.000000e+00\n",
      "2  0.000000e+00  0.000000e+00\n",
      "3  5.000000e-07  3.000000e-07\n",
      "4  7.540000e-05  1.920000e-05\n",
      "5  1.284500e-03  3.583000e-04\n",
      "6  7.401900e-03  2.622500e-03\n",
      "7  2.348700e-02  1.026440e-02\n",
      "8  5.198890e-02  2.688940e-02\n",
      "9  9.205840e-02  5.447080e-02\n"
     ]
    }
   ],
   "source": [
    "pfam=np.transpose(np.array([pf1m,pf2m]))\n",
    "pfm=pd.DataFrame(pfam,columns=[\"pf1\",\"pf2\"])\n",
    "print(\"pf:\\n\",pfm)"
   ]
  },
  {
   "cell_type": "code",
   "execution_count": 20,
   "metadata": {},
   "outputs": [
    {
     "data": {
      "text/plain": [
       "<matplotlib.legend.Legend at 0x1d244128888>"
      ]
     },
     "execution_count": 20,
     "metadata": {},
     "output_type": "execute_result"
    },
    {
     "data": {
      "image/png": "[encoded data removed]",
      "text/plain": [
       "<Figure size 432x288 with 1 Axes>"
      ]
     },
     "metadata": {
      "needs_background": "light"
     },
     "output_type": "display_data"
    }
   ],
   "source": [
    "axes1=plt.figure().add_axes([0,0,1,1])\n",
    "axes1.set_yscale('log')\n",
    "xaxis=[1,2,3,4,5,6,7,8,9,10]\n",
    "axes1.plot(xaxis,pf1m,'bo--',label=\"Pf1MCS\")\n",
    "axes1.plot(xaxis,pf2m,'g',label=\"Pf2MCS\")\n",
    "axes1.plot(xaxis,pf1,'ro--',label=\"Pf1SS\")\n",
    "axes1.plot(xaxis,pf2,'y',label=\"Pf2SS\")\n",
    "axes1.set_xlabel(\"Iterations\")\n",
    "axes1.set_ylabel(\"Probability Of Failure 1&2\")\n",
    "axes1.set_title('Limit State Function')\n",
    "axes1.legend()"
   ]
  },
  {
   "cell_type": "markdown",
   "metadata": {},
   "source": [
    "Example No 3"
   ]
  },
  {
   "cell_type": "code",
   "execution_count": 27,
   "metadata": {},
   "outputs": [],
   "source": [
    "pf1m=[0,0,0,0,3.00000000000000e-07,2.35000000000000e-05,0.000338200000000000,0.00208100000000000,0.00749900000000000,0.0190242000000000]\n",
    "pf2m=[0,0,0,0,3.00000000000000e-07,6.40000000000000e-06,0.000110100000000000,0.000752900000000000,0.00316000000000000,0.00919670000000000]"
   ]
  },
  {
   "cell_type": "code",
   "execution_count": 28,
   "metadata": {},
   "outputs": [
    {
     "name": "stdout",
     "output_type": "stream",
     "text": [
      "pf:\n",
      "             pf1           pf2\n",
      "0  0.000000e+00  0.000000e+00\n",
      "1  0.000000e+00  0.000000e+00\n",
      "2  0.000000e+00  0.000000e+00\n",
      "3  0.000000e+00  0.000000e+00\n",
      "4  3.000000e-07  3.000000e-07\n",
      "5  2.350000e-05  6.400000e-06\n",
      "6  3.382000e-04  1.101000e-04\n",
      "7  2.081000e-03  7.529000e-04\n",
      "8  7.499000e-03  3.160000e-03\n",
      "9  1.902420e-02  9.196700e-03\n"
     ]
    }
   ],
   "source": [
    "pfam=np.transpose(np.array([pf1m,pf2m]))\n",
    "pfm=pd.DataFrame(pfam,columns=[\"pf1\",\"pf2\"])\n",
    "print(\"pf:\\n\",pfm)"
   ]
  },
  {
   "cell_type": "code",
   "execution_count": 30,
   "metadata": {},
   "outputs": [
    {
     "data": {
      "text/plain": [
       "<matplotlib.legend.Legend at 0x1d24543ad88>"
      ]
     },
     "execution_count": 30,
     "metadata": {},
     "output_type": "execute_result"
    },
    {
     "data": {
      "image/png": "[encoded data removed]",
      "text/plain": [
       "<Figure size 432x288 with 1 Axes>"
      ]
     },
     "metadata": {
      "needs_background": "light"
     },
     "output_type": "display_data"
    }
   ],
   "source": [
    "axes1=plt.figure().add_axes([0,0,1,1])\n",
    "axes1.set_yscale('log')\n",
    "xaxis=[1,2,3,4,5,6,7,8,9,10]\n",
    "axes1.plot(xaxis,pf1m,'bo--',label=\"Pf1MCS\")\n",
    "axes1.plot(xaxis,pf2m,'g',label=\"Pf2MCS\")\n",
    "axes1.plot(xaxis,pf1,'ro--',label=\"Pf1SS\")\n",
    "axes1.plot(xaxis,pf2,'y',label=\"Pf2SS\")\n",
    "axes1.set_xlabel(\"Iterations\")\n",
    "axes1.set_ylabel(\"Probability Of Failure 1&2\")\n",
    "axes1.set_title('Limit State Function')\n",
    "axes1.legend()"
   ]
  },
  {
   "cell_type": "markdown",
   "metadata": {},
   "source": [
    "Example No 4"
   ]
  },
  {
   "cell_type": "code",
   "execution_count": 36,
   "metadata": {},
   "outputs": [],
   "source": [
    "pf1m=[0,0,0,0,5.00000000000000e-07,5.14000000000000e-05,0.000633100000000000,0.00341750000000000,0.0111327000000000,0.0262758000000000]\n",
    "pfm1=[0,0,0,0,1.00000000000000e-07,4.30000000000000e-06,9.78000000000000e-05,0.000744100000000000,0.00321700000000000,0.00951630000000000]"
   ]
  },
  {
   "cell_type": "code",
   "execution_count": 37,
   "metadata": {},
   "outputs": [
    {
     "name": "stdout",
     "output_type": "stream",
     "text": [
      "pf:\n",
      "             pf1           pf2\n",
      "0  0.000000e+00  0.000000e+00\n",
      "1  0.000000e+00  0.000000e+00\n",
      "2  0.000000e+00  0.000000e+00\n",
      "3  0.000000e+00  0.000000e+00\n",
      "4  5.000000e-07  3.000000e-07\n",
      "5  5.140000e-05  6.400000e-06\n",
      "6  6.331000e-04  1.101000e-04\n",
      "7  3.417500e-03  7.529000e-04\n",
      "8  1.113270e-02  3.160000e-03\n",
      "9  2.627580e-02  9.196700e-03\n"
     ]
    }
   ],
   "source": [
    "pfam=np.transpose(np.array([pf1m,pf2m]))\n",
    "pfm=pd.DataFrame(pfam,columns=[\"pf1\",\"pf2\"])\n",
    "print(\"pf:\\n\",pfm)"
   ]
  },
  {
   "cell_type": "code",
   "execution_count": 39,
   "metadata": {},
   "outputs": [
    {
     "data": {
      "text/plain": [
       "<matplotlib.legend.Legend at 0x1d245596d88>"
      ]
     },
     "execution_count": 39,
     "metadata": {},
     "output_type": "execute_result"
    },
    {
     "data": {
      "image/png": "[encoded data removed]",
      "text/plain": [
       "<Figure size 432x288 with 1 Axes>"
      ]
     },
     "metadata": {
      "needs_background": "light"
     },
     "output_type": "display_data"
    }
   ],
   "source": [
    "axes1=plt.figure().add_axes([0,0,1,1])\n",
    "axes1.set_yscale('log')\n",
    "xaxis=[1,2,3,4,5,6,7,8,9,10]\n",
    "axes1.plot(xaxis,pf1m,'bo--',label=\"Pf1MCS\")\n",
    "axes1.plot(xaxis,pf2m,'go-',label=\"Pf2MCS\")\n",
    "axes1.plot(xaxis,pf1,'ro--',label=\"Pf1SS\")\n",
    "axes1.plot(xaxis,pf2,'yo-',label=\"Pf2SS\")\n",
    "axes1.set_xlabel(\"Iterations\")\n",
    "axes1.set_ylabel(\"Probability Of Failure 1&2\")\n",
    "axes1.set_title('Limit State Function')\n",
    "axes1.legend()"
   ]
  }
 ],
 "metadata": {
  "kernelspec": {
   "display_name": "Python 3",
   "language": "python",
   "name": "python3"
  },
  "language_info": {
   "codemirror_mode": {
    "name": "ipython",
    "version": 3
   },
   "file_extension": ".py",
   "mimetype": "text/x-python",
   "name": "python",
   "nbconvert_exporter": "python",
   "pygments_lexer": "ipython3",
   "version": "3.7.4"
  }
 },
 "nbformat": 4,
 "nbformat_minor": 2
}
